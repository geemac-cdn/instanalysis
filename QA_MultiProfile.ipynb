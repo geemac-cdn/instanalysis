{
 "cells": [
  {
   "cell_type": "markdown",
   "metadata": {},
   "source": [
    "# IG360 QA - Create Multi-Profile\n",
    "*Purpose:* Create a short profile for multiple users:\n",
    "<ul>\n",
    "    <li>User name, full name</li>\n",
    "    <li>Stats on followers, following</li>\n",
    "    <li>Date of most recent post</li>\n",
    "</ul>\n",
    "<br>\n",
    "<br>\n",
    "For this example we will look at users that target account follows though they do not follow back"
   ]
  },
  {
   "cell_type": "code",
   "execution_count": null,
   "metadata": {},
   "outputs": [],
   "source": [
    "# import IG360 data\n",
    "from IG360.ig360_scrape import *\n",
    "\n",
    "# import other key libraries\n",
    "import pandas as pd\n",
    "import datetime\n",
    "import json\n",
    "import re\n",
    "from pathlib import Path\n",
    "\n",
    "# set output folder\n",
    "txt_dir_output = '_output/'\n",
    "dir_output = Path(txt_dir_output)\n",
    "\n",
    "# locate configuration file\n",
    "config_file_path = 'config.ini'\n",
    "config = init_config(config_file_path)\n",
    "\n",
    "# set user and password (turned off by default; using config.ini)\n",
    "#user_login = 'xx'\n",
    "#user_password = 'xx'\n",
    "\n",
    "# set target account and capture parameters\n",
    "#tgt_user = \"ghost.acolyte.v2\"\n",
    "#tgt_user = \"worldofbenches\"\n",
    "tgt_user = \"bench.view\""
   ]
  },
  {
   "cell_type": "markdown",
   "metadata": {},
   "source": [
    "Initialize Scraper and Login"
   ]
  },
  {
   "cell_type": "code",
   "execution_count": null,
   "metadata": {},
   "outputs": [],
   "source": [
    "#scraper = IG360Scrape(config, user_login, user_password)\n",
    "scraper = IG360Scrape(config)\n",
    "scraper.login()"
   ]
  },
  {
   "cell_type": "markdown",
   "metadata": {},
   "source": [
    "Get list of every account following or being followed by user"
   ]
  },
  {
   "cell_type": "code",
   "execution_count": null,
   "metadata": {},
   "outputs": [],
   "source": [
    "# extract follower and following data\n",
    "scraper.scrape_followers(tgt_user)\n",
    "scraper.scrape_following(tgt_user)\n",
    "\n",
    "# dump partitioned follow relationship data\n",
    "part_users = scraper.get_user_part_lists()\n",
    "followers_only = part_users[0]\n",
    "following_only = part_users[1]\n",
    "mutual_follow = part_users[2]"
   ]
  },
  {
   "cell_type": "markdown",
   "metadata": {},
   "source": [
    "For each non-reciprocating account, combine short profile with date of most recent post"
   ]
  },
  {
   "cell_type": "code",
   "execution_count": null,
   "metadata": {},
   "outputs": [],
   "source": [
    "profiles = []\n",
    "\n",
    "for usr in following_only:\n",
    "    # get profile info\n",
    "    scraper.scrape_profile(usr)\n",
    "    profile_data = scraper.get_profile_data()\n",
    "    # get post data\n",
    "    scraper.scrape_post_list(usr, 1)\n",
    "    post_list = scraper.get_posts()\n",
    "    if len(post_list) > 0:\n",
    "        scraper.scrape_post(post_list[0].split('/')[-2], get_likes=False)\n",
    "        post_data = scraper.get_post_data()\n",
    "        # combine and append\n",
    "        profiles.append(list(profile_data) + [post_data[1]])\n",
    "    else:\n",
    "        profiles.append(list(profile_data) + [None])\n"
   ]
  },
  {
   "cell_type": "markdown",
   "metadata": {},
   "source": [
    "Process Final Export; Output to JSON"
   ]
  },
  {
   "cell_type": "code",
   "execution_count": null,
   "metadata": {},
   "outputs": [],
   "source": [
    "\n",
    "\n",
    "# assemble multi-profile data\n",
    "profile_data = []\n",
    "for profile in profiles:\n",
    "    key_fields = ['user_name', 'ind_verified', 'num_posts', 'num_followers', 'num_following', 'full_name', 'description', 'dt_last_post']\n",
    "    new_dict_record = dict(zip(key_fields,profile))\n",
    "    profile_data.append(new_dict_record)\n",
    "dict_profiles = {\n",
    "    \"profiles\" : profile_data\n",
    "}\n",
    "\n",
    "# create header dictionary\n",
    "dt_run = datetime.datetime.now()\n",
    "dict_header = {\n",
    "    \"run_datetime\" : dt_run.strftime('%Y-%m-%dT%H:%M:%SZ'),\n",
    "    \"ig_record_type\" : \"mp\",\n",
    "    \"code_version\" : scraper.code_version\n",
    "}\n",
    "\n",
    "# combine all dictionaries\n",
    "dict_final = {**dict_header, **dict_profiles}\n",
    "\n",
    "# output as JSON\n",
    "fn_out = re.sub(r'[\\W]','',dict_header[\"ig_record_type\"]) + '_' + tgt_user + '_' \\\n",
    "    + str(dt_run.year) + str(dt_run.month).zfill(2) + str(dt_run.day).zfill(2) + str(dt_run.hour).zfill(2) + str(dt_run.minute).zfill(2) + '.json'\n",
    "fn_out_full = dir_output / fn_out\n",
    "with open(fn_out_full, 'w') as json_file:\n",
    "    json.dump(dict_final, json_file)\n",
    "  \n",
    "    \n",
    "time.sleep(60)"
   ]
  },
  {
   "cell_type": "code",
   "execution_count": null,
   "metadata": {},
   "outputs": [],
   "source": [
    "scraper.util_json_write_mp(tgt_user, dir_output, profiles)"
   ]
  }
 ],
 "metadata": {
  "kernelspec": {
   "display_name": "Python 3",
   "language": "python",
   "name": "python3"
  },
  "language_info": {
   "codemirror_mode": {
    "name": "ipython",
    "version": 3
   },
   "file_extension": ".py",
   "mimetype": "text/x-python",
   "name": "python",
   "nbconvert_exporter": "python",
   "pygments_lexer": "ipython3",
   "version": "3.7.4"
  }
 },
 "nbformat": 4,
 "nbformat_minor": 4
}
