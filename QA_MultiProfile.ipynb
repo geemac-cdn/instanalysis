{
 "cells": [
  {
   "cell_type": "markdown",
   "metadata": {},
   "source": [
    "# IG360 QA - Create Multi-Profile\n",
    "*Purpose:* Create a short profile for multiple users:\n",
    "<ul>\n",
    "    <li>User name, full name</li>\n",
    "    <li>Stats on followers, following</li>\n",
    "    <li>Date of most recent post</li>\n",
    "</ul>\n",
    "<br>\n",
    "<br>\n",
    "For this example we will look at users that target account follows though they do not follow back"
   ]
  },
  {
   "cell_type": "code",
   "execution_count": null,
   "metadata": {},
   "outputs": [],
   "source": [
    "# import IG360 data\n",
    "from IG360.ig360_scrape import *\n",
    "\n",
    "# import other key libraries\n",
    "import pandas as pd\n",
    "import datetime\n",
    "import json\n",
    "import re\n",
    "from pathlib import Path\n",
    "\n",
    "# set output folder\n",
    "txt_dir_output = '_output/'\n",
    "dir_output = Path(txt_dir_output)\n",
    "\n",
    "# locate configuration file\n",
    "config_file_path = 'config.ini'\n",
    "config = init_config(config_file_path)\n",
    "\n",
    "# set user and password (turned off by default; using config.ini)\n",
    "#user_login = 'xx'\n",
    "#user_password = 'xx'\n",
    "\n",
    "# set target account and capture parameters\n",
    "tgt_user = \"worldofbenches\""
   ]
  },
  {
   "cell_type": "markdown",
   "metadata": {},
   "source": [
    "Initialize Scraper and Login"
   ]
  },
  {
   "cell_type": "code",
   "execution_count": null,
   "metadata": {},
   "outputs": [],
   "source": [
    "#scraper = IG360Scrape(config, user_login, user_password)\n",
    "scraper = IG360Scrape(config)\n",
    "scraper.login()"
   ]
  },
  {
   "cell_type": "markdown",
   "metadata": {},
   "source": [
    "Get list of every account following or being followed by user"
   ]
  },
  {
   "cell_type": "code",
   "execution_count": null,
   "metadata": {},
   "outputs": [],
   "source": [
    "# extract follower and following data\n",
    "scraper.scrape_followers(tgt_user)\n",
    "scraper.scrape_following(tgt_user)\n",
    "\n",
    "# dump partitioned follow relationship data\n",
    "part_users = scraper.get_user_part_lists()\n",
    "followers_only = part_users[0]\n",
    "following_only = part_users[1]\n",
    "mutual_follow = part_users[2]"
   ]
  },
  {
   "cell_type": "markdown",
   "metadata": {},
   "source": [
    "For each non-reciprocating account, combine short profile with date of most recent post"
   ]
  },
  {
   "cell_type": "code",
   "execution_count": null,
   "metadata": {},
   "outputs": [],
   "source": [
    "profiles = []\n",
    "\n",
    "for usr in following_only:\n",
    "    # get profile info\n",
    "    scraper.scrape_profile(usr)\n",
    "    profile_data = scraper.get_profile_data()\n",
    "    # get post data\n",
    "    scraper.scrape_post_list(usr, 1)\n",
    "    post_list = scraper.get_posts()\n",
    "    if len(post_list) > 0:\n",
    "        scraper.scrape_post(post_list[0].split('/')[-2], get_likes=False)\n",
    "        post_data = scraper.get_post_data()\n",
    "        # combine and append\n",
    "        profiles.append(list(profile_data) + [post_data[1]])\n",
    "    else:\n",
    "        profiles.append(list(profile_data) + [None])\n"
   ]
  },
  {
   "cell_type": "markdown",
   "metadata": {},
   "source": [
    "Process Final Export; Output to JSON"
   ]
  },
  {
   "cell_type": "code",
   "execution_count": null,
   "metadata": {},
   "outputs": [],
   "source": [
    "scraper.util_json_write_mp(tgt_user, dir_output, profiles)"
   ]
  }
 ],
 "metadata": {
  "kernelspec": {
   "display_name": "Python 3",
   "language": "python",
   "name": "python3"
  },
  "language_info": {
   "codemirror_mode": {
    "name": "ipython",
    "version": 3
   },
   "file_extension": ".py",
   "mimetype": "text/x-python",
   "name": "python",
   "nbconvert_exporter": "python",
   "pygments_lexer": "ipython3",
   "version": "3.7.4"
  }
 },
 "nbformat": 4,
 "nbformat_minor": 4
}
