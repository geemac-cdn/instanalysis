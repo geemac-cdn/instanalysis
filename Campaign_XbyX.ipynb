{
 "cells": [
  {
   "cell_type": "markdown",
   "metadata": {},
   "source": [
    "# IG360 Campaign - X by X\n",
    "*Purpose:* Find a list of new accounts for target user to target for engagement\n",
    "<br><br>\n",
    "*Methodology*\n",
    "<ul>\n",
    "    <li>Select the most prominent X likers in target user's last X posts</li>\n",
    "    <li>For each promiment liker, count the number of likes in their last X posts</li>\n",
    "    <li>Add up likes for all users across their most recent posts - return the largest count</li>\n",
    "</ul>\n",
    "\n",
    "<br>\n",
    "<br>"
   ]
  },
  {
   "cell_type": "code",
   "execution_count": null,
   "metadata": {},
   "outputs": [],
   "source": [
    "# import IG360 data\n",
    "from IG360.ig360_scrape import *\n",
    "\n",
    "# import other key libraries\n",
    "import pandas as pd\n",
    "import numpy as np\n",
    "import re\n",
    "from pathlib import Path\n",
    "from datetime import datetime\n",
    "\n",
    "\n",
    "# set output folder\n",
    "txt_dir_output = '_output/'\n",
    "dir_output = Path(txt_dir_output)\n",
    "\n",
    "# locate configuration file\n",
    "config_file_path = 'config.ini'\n",
    "config = init_config(config_file_path)\n",
    "\n",
    "# set user and password (turned off by default; using config.ini)\n",
    "#user_login = 'xx'\n",
    "#user_password = 'xx'\n",
    "\n",
    "# set target account and capture parameters\n",
    "tgt_user = \"worldofbenches\"\n",
    "xFactor = 5\n",
    "max_recs = 20"
   ]
  },
  {
   "cell_type": "code",
   "execution_count": null,
   "metadata": {},
   "outputs": [],
   "source": [
    "# Initialize scraper and login\n",
    "#scraper = IG360Scrape(config, user_login, user_password)\n",
    "scraper = IG360Scrape(config)\n",
    "scraper.login()"
   ]
  },
  {
   "cell_type": "markdown",
   "metadata": {},
   "source": [
    "Get list of accounts currently followed by target account"
   ]
  },
  {
   "cell_type": "code",
   "execution_count": null,
   "metadata": {},
   "outputs": [],
   "source": [
    "scraper.scrape_following(tgt_user)\n",
    "tgt_following_list = scraper.record_following_list"
   ]
  },
  {
   "cell_type": "markdown",
   "metadata": {},
   "source": [
    "Select the most prominent X likers in target user's last X posts"
   ]
  },
  {
   "cell_type": "code",
   "execution_count": null,
   "metadata": {},
   "outputs": [],
   "source": [
    "# get list of most recent X posts\n",
    "scraper.scrape_post_list(tgt_user, xFactor)\n",
    "tgt_posts = [i.split('/')[-2] for i in scraper.get_posts()]\n",
    "\n",
    "# get details for each post\n",
    "post_data = []\n",
    "for tgt_post in tgt_posts:\n",
    "    scraper.scrape_post(tgt_post)\n",
    "    post_data.append(scraper.get_post_data())"
   ]
  },
  {
   "cell_type": "code",
   "execution_count": null,
   "metadata": {},
   "outputs": [],
   "source": [
    "# create data sets for posts and likes\n",
    "df_posts = pd.DataFrame()\n",
    "df_post_likes = pd.DataFrame()\n",
    "for postdat in post_data:\n",
    "    # convert date time field\n",
    "    postdat = list(postdat)\n",
    "    postdat[1] = datetime.strptime(postdat[1], '%Y-%m-%dT%H:%M:%S.%fZ')\n",
    "    \n",
    "    # basic post information\n",
    "    addon = pd.DataFrame([postdat[:6]], columns=['picture_id', 'post_date', 'poster', 'location', 'likes', 'post'])\n",
    "    df_posts = df_posts.append(addon, ignore_index=True)\n",
    "    \n",
    "    # like matrix\n",
    "    for lk in postdat[6]:\n",
    "        if len(lk) > 0:\n",
    "            addonl = pd.DataFrame([[postdat[0], postdat[1], lk]], columns=['picture_id', 'post_date', 'account'])\n",
    "            df_post_likes = df_post_likes.append(addonl, ignore_index=True) \n",
    "            \n",
    "# aggregate likers\n",
    "top_likers = (df_post_likes.groupby(['account'])\n",
    "                   .agg({'picture_id':'count', 'post_date':'max'})\n",
    "                   .sort_values(['picture_id'], ascending=[False])\n",
    "                   .reset_index(drop=False))\n",
    "top_likers.columns = ['account','num_likes', 'last_post']\n",
    "\n",
    "# add calcuation for days since last post\n",
    "max_post = df_post_likes['post_date'].max()\n",
    "top_likers['days_snc_lst'] = ((max_post - top_likers['last_post']) / np.timedelta64(1, 'D')).astype(\"int\")\n",
    "\n",
    "# capture top likers\n",
    "lst_top_likers = list(top_likers['account'].head(xFactor))\n",
    "\n",
    "# display top likers\n",
    "top_likers[['account','num_likes', 'days_snc_lst']].head(xFactor)"
   ]
  },
  {
   "cell_type": "markdown",
   "metadata": {},
   "source": [
    "For each promiment liker, count the number of likes in their last X posts"
   ]
  },
  {
   "cell_type": "code",
   "execution_count": null,
   "metadata": {},
   "outputs": [],
   "source": [
    "# get list of most recent X posts for each of the top likers\n",
    "l_posts = []\n",
    "for ltop in lst_top_likers:\n",
    "    scraper.scrape_post_list(ltop, xFactor)\n",
    "    addon_l_posts = [i.split('/')[-2] for i in scraper.get_posts()]\n",
    "    l_posts = l_posts + addon_l_posts\n",
    "    \n",
    "# get details for each liker post\n",
    "l_post_data = []\n",
    "for l_tgt_post in l_posts:\n",
    "    scraper.scrape_post(l_tgt_post)\n",
    "    l_post_data.append(scraper.get_post_data())"
   ]
  },
  {
   "cell_type": "code",
   "execution_count": null,
   "metadata": {},
   "outputs": [],
   "source": [
    "l_df_posts = pd.DataFrame()\n",
    "l_df_post_likes = pd.DataFrame()\n",
    "for l_postdat in l_post_data:\n",
    "    # convert date time field\n",
    "    l_postdat = list(l_postdat)\n",
    "    l_postdat[1] = datetime.strptime(l_postdat[1], '%Y-%m-%dT%H:%M:%S.%fZ')\n",
    "    \n",
    "    # basic post information\n",
    "    addon = pd.DataFrame([l_postdat[:6]], columns=['picture_id', 'post_date', 'poster', 'location', 'likes', 'post'])\n",
    "    l_df_posts = l_df_posts.append(addon, ignore_index=True)\n",
    "    \n",
    "    # like matrix\n",
    "    for lk in l_postdat[6]:\n",
    "        if len(lk) > 0:\n",
    "            addonl = pd.DataFrame([[l_postdat[0], l_postdat[1], lk]], columns=['picture_id', 'post_date', 'account'])\n",
    "            l_df_post_likes = l_df_post_likes.append(addonl, ignore_index=True) \n",
    "            \n",
    "# aggregate likers\n",
    "l_top_likers = (l_df_post_likes.groupby(['account'])\n",
    "                   .agg({'picture_id':'count', 'post_date':'max'})\n",
    "                   .sort_values(['picture_id'], ascending=[False])\n",
    "                   .reset_index(drop=False))\n",
    "l_top_likers.columns = ['account','total_likes', 'last_like']\n",
    "\n",
    "# add calcuation for days since last post\n",
    "max_post = l_df_post_likes['post_date'].max()\n",
    "l_top_likers['days_snc_last_like'] = ((max_post - l_top_likers['last_like']) / np.timedelta64(1, 'D')).astype(\"int\")\n",
    "\n",
    "# remove target user from like list\n",
    "l_top_likers = l_top_likers[l_top_likers['account']!=tgt_user]\n",
    "\n",
    "# capture top prospects for following\n",
    "rept_lst_top_likers = (l_top_likers[~l_top_likers['account'].isin(tgt_following_list)]\n",
    "                       .head(max_recs)\n",
    "                      )\n",
    "rept_lst_top_likers"
   ]
  }
 ],
 "metadata": {
  "kernelspec": {
   "display_name": "Python 3",
   "language": "python",
   "name": "python3"
  },
  "language_info": {
   "codemirror_mode": {
    "name": "ipython",
    "version": 3
   },
   "file_extension": ".py",
   "mimetype": "text/x-python",
   "name": "python",
   "nbconvert_exporter": "python",
   "pygments_lexer": "ipython3",
   "version": "3.7.4"
  }
 },
 "nbformat": 4,
 "nbformat_minor": 4
}
