{
 "cells": [
  {
   "cell_type": "markdown",
   "metadata": {},
   "source": [
    "# IG360 QA - Create Full Profile\n",
    "*Purpose:* Create a full profile for a given user:\n",
    "<ul>\n",
    "    <li>User name, full name</li>\n",
    "    <li>Stats on followers, following</li>\n",
    "    <li>Recent posts</li>\n",
    "</ul>\n",
    "<br>\n",
    "<br>\n",
    "Import libraries, set script configurations"
   ]
  },
  {
   "cell_type": "code",
   "execution_count": 21,
   "metadata": {},
   "outputs": [],
   "source": [
    "# import IG360 data\n",
    "from IG360.ig360_scrape import *\n",
    "\n",
    "# import other key libraries\n",
    "import pandas as pd\n",
    "import datetime\n",
    "import json\n",
    "import re\n",
    "from pathlib import Path\n",
    "\n",
    "# set IG login and password\n",
    "ig_login = \"top_repost_architecture\"\n",
    "ig_pass = \"Sharedpass1\"\n",
    "\n",
    "# set output folder\n",
    "txt_dir_output = '_output/'\n",
    "dir_output = Path(txt_dir_output)\n",
    "\n",
    "# locate configuration file\n",
    "config_file_path = 'config.ini'\n",
    "config = init_config(config_file_path)\n",
    "\n",
    "# set target account and capture parameters\n",
    "tgt_user = \"ghost.acolyte\"\n",
    "num_posts = 101"
   ]
  },
  {
   "cell_type": "markdown",
   "metadata": {},
   "source": [
    "Initialize Scraper and login"
   ]
  },
  {
   "cell_type": "code",
   "execution_count": 5,
   "metadata": {},
   "outputs": [],
   "source": [
    "scraper = IG360Scrape(config, ig_login,ig_pass)\n",
    "scraper.login()"
   ]
  },
  {
   "cell_type": "markdown",
   "metadata": {},
   "source": [
    "Scrape profile"
   ]
  },
  {
   "cell_type": "code",
   "execution_count": 6,
   "metadata": {},
   "outputs": [
    {
     "name": "stdout",
     "output_type": "stream",
     "text": [
      "{'user_name': 'thrurhondalens', 'ind_verified': 0, 'num_posts': 320, 'num_followers': 125, 'num_following': 116, 'full_name': 'Rhonda Jones', 'description': 'Just capturing 📸 the moment.\\nWhile I’m mobile on my mobile.\\n📍Toronto'}\n"
     ]
    }
   ],
   "source": [
    "scraper.scrape_profile(tgt_user)\n",
    "print(scraper.record_profile)"
   ]
  },
  {
   "cell_type": "markdown",
   "metadata": {},
   "source": [
    "Get followers / following"
   ]
  },
  {
   "cell_type": "code",
   "execution_count": 7,
   "metadata": {},
   "outputs": [
    {
     "name": "stdout",
     "output_type": "stream",
     "text": [
      "Clicked the followers link\n",
      "Clicked the followers link\n",
      "Followers: ['hameedbhatti62', 'princeraphe', 'kennedy904', '_toyamarie', 'migdalia.arrieta', 'tjajudhia', 'shanethulloa', 'i.fm89', 'chris_m_c_a__n_a_d_a', 'leswilliams3993']\n",
      "Following: ['peter_papi', 'hameedbhatti62', 'torontontario', 'torontoforyou', '_toyamarie', 'i.fm89', 'torontonianlife', 'leswilliams3993', 'pameladg8', 'visitbarbados']\n"
     ]
    }
   ],
   "source": [
    "scraper.scrape_followers(tgt_user)\n",
    "scraper.scrape_following(tgt_user)\n",
    "print(\"Followers: {}\".format(scraper.record_follower_list[:10]))\n",
    "print(\"Following: {}\".format(scraper.record_following_list[:10]))"
   ]
  },
  {
   "cell_type": "markdown",
   "metadata": {},
   "source": [
    "Get most recent posts"
   ]
  },
  {
   "cell_type": "code",
   "execution_count": 8,
   "metadata": {},
   "outputs": [
    {
     "name": "stdout",
     "output_type": "stream",
     "text": [
      "Posts Found: ['https://www.instagram.com/p/B9fjxJFBzfF/', 'https://www.instagram.com/p/B81byjrB8QZ/', 'https://www.instagram.com/p/B7g50uWBik3/', 'https://www.instagram.com/p/B8M_Z8dBY7R/', 'https://www.instagram.com/p/B8C76CShojM/', 'https://www.instagram.com/p/B7pBdu6BNJB/', 'https://www.instagram.com/p/B6fOkGsA7gS/', 'https://www.instagram.com/p/B7ehs6jh_DK/', 'https://www.instagram.com/p/B8SZSaYBWrD/', 'https://www.instagram.com/p/B9Zw_FvBueq/', 'https://www.instagram.com/p/B8uibU4hYMH/', 'https://www.instagram.com/p/B74g0VKhPP3/', 'https://www.instagram.com/p/B6WabjPgY5K/', 'https://www.instagram.com/p/B8t0R0-hKv2/', 'https://www.instagram.com/p/B9cMPNlBwC8/', 'https://www.instagram.com/p/B710n8vh85A/', 'https://www.instagram.com/p/B7-hxXpBcbG/', 'https://www.instagram.com/p/B7Hcs-1hoqf/', 'https://www.instagram.com/p/B7VTlsqhrIH/', 'https://www.instagram.com/p/B7NlE05hXpi/', 'https://www.instagram.com/p/B9WCh3KhB_3/', 'https://www.instagram.com/p/B6wkXyEhW77/', 'https://www.instagram.com/p/B7sdzZaB4uX/', 'https://www.instagram.com/p/B7cSYvfB0TV/', 'https://www.instagram.com/p/B61xCf_hWG1/', 'https://www.instagram.com/p/B7TlPfiB9Bn/', 'https://www.instagram.com/p/B8Syt8QBRIJ/', 'https://www.instagram.com/p/B8FiKdnhi_p/', 'https://www.instagram.com/p/B8DsWLohJDP/', 'https://www.instagram.com/p/B79BM94BN_w/', 'https://www.instagram.com/p/B84VAhEB7vr/', 'https://www.instagram.com/p/B8rYLFMBbBA/', 'https://www.instagram.com/p/B9QzeERhwz6/', 'https://www.instagram.com/p/B8LTsG2B7Xw/', 'https://www.instagram.com/p/B8HTJTcBaP1/', 'https://www.instagram.com/p/B7z3NPyBdsU/', 'https://www.instagram.com/p/B8zbPA-hwVD/', 'https://www.instagram.com/p/B7WrqP3hqs7/', 'https://www.instagram.com/p/B7KjGeUBnaf/', 'https://www.instagram.com/p/B6UyFHOA-hX/', 'https://www.instagram.com/p/B8ZxGvFhYbX/', 'https://www.instagram.com/p/B9HrajShHcV/', 'https://www.instagram.com/p/B8m2iV5hybc/', 'https://www.instagram.com/p/B7vAnjshIyt/', 'https://www.instagram.com/p/B8IZx92BGV8/', 'https://www.instagram.com/p/B6lx-ThAU3v/', 'https://www.instagram.com/p/B6reFTahn2L/', 'https://www.instagram.com/p/B7ZCJdZhx2X/', 'https://www.instagram.com/p/B8_6nGsB77t/', 'https://www.instagram.com/p/B8APnuCB8l9/']\n",
      "Num Posts: 50\n"
     ]
    }
   ],
   "source": [
    "scraper.scrape_post_list(tgt_user, num_posts)\n",
    "print(\"Posts Found: {}\".format(scraper.record_post_list))\n",
    "print(\"Num Posts: {}\".format(len(scraper.record_post_list)))"
   ]
  },
  {
   "cell_type": "markdown",
   "metadata": {},
   "source": [
    "Combine data into a single dictionary"
   ]
  },
  {
   "cell_type": "code",
   "execution_count": 25,
   "metadata": {},
   "outputs": [],
   "source": [
    "# combine follow lists into single dictionary\n",
    "dict_lists = {\n",
    "    \"followers\" : scraper.record_follower_list,\n",
    "    \"user_follows\" : scraper.record_following_list,\n",
    "    \"recent_posts\" : scraper.record_post_list\n",
    "}\n",
    "\n",
    "# create header dictionary\n",
    "dt_run = datetime.datetime.now()\n",
    "dict_header = {\n",
    "    \"run_datetime\" : dt_run.strftime('%Y-%m-%dT%H:%M:%SZ'),\n",
    "    \"ig_record_type\" : \"fp\",\n",
    "    \"code_version\" : scraper.code_version\n",
    "}\n",
    "\n",
    "# combine all dictionaries\n",
    "dict_final = {**dict_header, **scraper.record_profile, **dict_lists}\n",
    "\n",
    "# output as JSON\n",
    "fn_out = re.sub('[\\W]','',dict_header[\"ig_record_type\"]) + '_' + tgt_user + '_' \\\n",
    "    + str(dt_run.year) + str(dt_run.month).zfill(2) + str(dt_run.day).zfill(2) + str(dt_run.hour).zfill(2) + str(dt_run.minute).zfill(2) + '.json'\n",
    "fn_out_full = dir_output / fn_out\n",
    "with open(fn_out_full, 'w') as json_file:\n",
    "    json.dump(dict_final, json_file)\n"
   ]
  },
  {
   "cell_type": "code",
   "execution_count": 23,
   "metadata": {},
   "outputs": [
    {
     "data": {
      "text/plain": [
       "WindowsPath('_output/fp_thrurhondalens_202003091840.json')"
      ]
     },
     "execution_count": 23,
     "metadata": {},
     "output_type": "execute_result"
    }
   ],
   "source": [
    "fn_out_full"
   ]
  }
 ],
 "metadata": {
  "kernelspec": {
   "display_name": "Python 3",
   "language": "python",
   "name": "python3"
  },
  "language_info": {
   "codemirror_mode": {
    "name": "ipython",
    "version": 3
   },
   "file_extension": ".py",
   "mimetype": "text/x-python",
   "name": "python",
   "nbconvert_exporter": "python",
   "pygments_lexer": "ipython3",
   "version": "3.7.4"
  }
 },
 "nbformat": 4,
 "nbformat_minor": 4
}
