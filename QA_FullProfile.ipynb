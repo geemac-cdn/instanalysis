{
 "cells": [
  {
   "cell_type": "markdown",
   "metadata": {},
   "source": [
    "# IG360 QA - Create Full Profile\n",
    "*Purpose:* Create a full profile for a given user:\n",
    "<ul>\n",
    "    <li>User name, full name</li>\n",
    "    <li>Stats on followers, following</li>\n",
    "    <li>Recent posts</li>\n",
    "</ul>\n",
    "<br>\n",
    "<br>\n",
    "Import libraries, set script configurations"
   ]
  },
  {
   "cell_type": "code",
   "execution_count": 1,
   "metadata": {},
   "outputs": [],
   "source": [
    "# import IG360 data\n",
    "from IG360.ig360_scrape import *\n",
    "\n",
    "# import other key libraries\n",
    "import pandas as pd\n",
    "#import datetime\n",
    "#import json\n",
    "#import re\n",
    "from pathlib import Path\n",
    "\n",
    "# set output folder\n",
    "txt_dir_output = '_output/'\n",
    "dir_output = Path(txt_dir_output)\n",
    "\n",
    "# locate configuration file\n",
    "config_file_path = 'config.ini'\n",
    "config = init_config(config_file_path)\n",
    "\n",
    "# set user and password (turned off by default; using config.ini)\n",
    "#user_login = 'xx'\n",
    "#user_password = 'xx'\n",
    "\n",
    "# set target account and capture parameters\n",
    "tgt_user = \"worldofbenches\"\n",
    "num_posts = 3"
   ]
  },
  {
   "cell_type": "markdown",
   "metadata": {},
   "source": [
    "Initialize Scraper and login"
   ]
  },
  {
   "cell_type": "code",
   "execution_count": 2,
   "metadata": {},
   "outputs": [],
   "source": [
    "#scraper = IG360Scrape(config, user_login, user_password)\n",
    "scraper = IG360Scrape(config)\n",
    "scraper.login()"
   ]
  },
  {
   "cell_type": "markdown",
   "metadata": {},
   "source": [
    "Scrape profile"
   ]
  },
  {
   "cell_type": "code",
   "execution_count": 3,
   "metadata": {},
   "outputs": [
    {
     "name": "stdout",
     "output_type": "stream",
     "text": [
      "{'user_name': 'worldofbenches', 'ind_verified': 0, 'num_posts': 20, 'num_followers': 155, 'num_following': 1, 'full_name': 'Benches Of Instagram', 'description': 'It’s a big world, and there are a lot of benches out there. Follow me on my travels as I try to sit on all of them. I DONT LIFT WEIGHTS'}\n"
     ]
    }
   ],
   "source": [
    "scraper.scrape_profile(tgt_user)\n",
    "print(scraper.record_profile)"
   ]
  },
  {
   "cell_type": "markdown",
   "metadata": {},
   "source": [
    "Get followers / following"
   ]
  },
  {
   "cell_type": "code",
   "execution_count": 4,
   "metadata": {},
   "outputs": [
    {
     "name": "stdout",
     "output_type": "stream",
     "text": [
      "Sample of Followers: ['markbrignone', 'yashakpeh3', 'litistevengeorge', 'inksight.boys', 'benches_of_the_uk', 'pb_jae', 'jordan.brunt', 'coastie_rich', 'sarahcherie', 'tookiethepimp']\n",
      "Sample of Following: ['arze']\n"
     ]
    }
   ],
   "source": [
    "scraper.scrape_followers(tgt_user)\n",
    "scraper.scrape_following(tgt_user)\n",
    "print(\"Sample of Followers: {}\".format(scraper.record_follower_list[:10]))\n",
    "print(\"Sample of Following: {}\".format(scraper.record_following_list[:10]))"
   ]
  },
  {
   "cell_type": "markdown",
   "metadata": {},
   "source": [
    "Get most recent posts"
   ]
  },
  {
   "cell_type": "code",
   "execution_count": 5,
   "metadata": {},
   "outputs": [
    {
     "name": "stdout",
     "output_type": "stream",
     "text": [
      "Posts Found: ['https://www.instagram.com/p/Bt4_t00g4SA/', 'https://www.instagram.com/p/Bt2crxMgoKS/', 'https://www.instagram.com/p/BqQwJFggW20/']\n",
      "Num Posts: 3\n"
     ]
    }
   ],
   "source": [
    "scraper.scrape_post_list(tgt_user, num_posts)\n",
    "print(\"Posts Found: {}\".format(scraper.record_post_list))\n",
    "print(\"Num Posts: {}\".format(len(scraper.record_post_list)))"
   ]
  },
  {
   "cell_type": "markdown",
   "metadata": {},
   "source": [
    "Output a \"Full Profile\" JSON file"
   ]
  },
  {
   "cell_type": "code",
   "execution_count": 6,
   "metadata": {},
   "outputs": [
    {
     "name": "stdout",
     "output_type": "stream",
     "text": [
      "Output File: _output\\fp_worldofbenches_202005181808.json\n",
      "Successfully Written: True\n"
     ]
    }
   ],
   "source": [
    "success = scraper.json_write_fp(tgt_user, dir_output)\n",
    "print(\"Successfully Written: {}\".format(success[0]))"
   ]
  }
 ],
 "metadata": {
  "kernelspec": {
   "display_name": "Python 3",
   "language": "python",
   "name": "python3"
  },
  "language_info": {
   "codemirror_mode": {
    "name": "ipython",
    "version": 3
   },
   "file_extension": ".py",
   "mimetype": "text/x-python",
   "name": "python",
   "nbconvert_exporter": "python",
   "pygments_lexer": "ipython3",
   "version": "3.7.4"
  }
 },
 "nbformat": 4,
 "nbformat_minor": 4
}
