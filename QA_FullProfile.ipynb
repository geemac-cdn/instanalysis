{
 "cells": [
  {
   "cell_type": "markdown",
   "metadata": {},
   "source": [
    "# IG360 QA - Create Full Profile\n",
    "*Purpose:* Create a full profile for a given user:\n",
    "<ul>\n",
    "    <li>User name, full name</li>\n",
    "    <li>Stats on followers, following</li>\n",
    "    <li>Recent posts</li>\n",
    "</ul>\n",
    "<br>\n",
    "<br>\n",
    "Import libraries, set script configurations"
   ]
  },
  {
   "cell_type": "code",
   "execution_count": null,
   "metadata": {},
   "outputs": [],
   "source": [
    "# import IG360 data\n",
    "from IG360.ig360_scrape import *\n",
    "\n",
    "# import other key libraries\n",
    "import pandas as pd\n",
    "import datetime\n",
    "import json\n",
    "import re\n",
    "from pathlib import Path\n",
    "\n",
    "# set IG login and password\n",
    "ig_login = \"xx\"\n",
    "ig_pass = \"xx\"\n",
    "\n",
    "# set output folder\n",
    "txt_dir_output = '_output/'\n",
    "dir_output = Path(txt_dir_output)\n",
    "\n",
    "# locate configuration file\n",
    "config_file_path = 'config.ini'\n",
    "config = init_config(config_file_path)\n",
    "\n",
    "# set target account and capture parameters\n",
    "tgt_user = \"ghost.acolyte\"\n",
    "num_posts = 100"
   ]
  },
  {
   "cell_type": "markdown",
   "metadata": {},
   "source": [
    "Initialize Scraper and login"
   ]
  },
  {
   "cell_type": "code",
   "execution_count": null,
   "metadata": {},
   "outputs": [],
   "source": [
    "scraper = IG360Scrape(config, ig_login,ig_pass)\n",
    "scraper.login()"
   ]
  },
  {
   "cell_type": "markdown",
   "metadata": {},
   "source": [
    "Scrape profile"
   ]
  },
  {
   "cell_type": "code",
   "execution_count": null,
   "metadata": {},
   "outputs": [],
   "source": [
    "scraper.scrape_profile(tgt_user)\n",
    "print(scraper.record_profile)"
   ]
  },
  {
   "cell_type": "markdown",
   "metadata": {},
   "source": [
    "Get followers / following"
   ]
  },
  {
   "cell_type": "code",
   "execution_count": null,
   "metadata": {},
   "outputs": [],
   "source": [
    "scraper.scrape_followers(tgt_user)\n",
    "scraper.scrape_following(tgt_user)\n",
    "print(\"Followers: {}\".format(scraper.record_follower_list[:10]))\n",
    "print(\"Following: {}\".format(scraper.record_following_list[:10]))"
   ]
  },
  {
   "cell_type": "markdown",
   "metadata": {},
   "source": [
    "Get most recent posts"
   ]
  },
  {
   "cell_type": "code",
   "execution_count": null,
   "metadata": {},
   "outputs": [],
   "source": [
    "scraper.scrape_post_list(tgt_user, num_posts)\n",
    "print(\"Posts Found: {}\".format(scraper.record_post_list))\n",
    "print(\"Num Posts: {}\".format(len(scraper.record_post_list)))"
   ]
  },
  {
   "cell_type": "markdown",
   "metadata": {},
   "source": [
    "Combine data into a single dictionary"
   ]
  },
  {
   "cell_type": "code",
   "execution_count": null,
   "metadata": {},
   "outputs": [],
   "source": [
    "# combine follow lists into single dictionary\n",
    "dict_lists = {\n",
    "    \"followers\" : scraper.record_follower_list,\n",
    "    \"user_follows\" : scraper.record_following_list,\n",
    "    \"recent_posts\" : scraper.record_post_list\n",
    "}\n",
    "\n",
    "# create header dictionary\n",
    "dt_run = datetime.datetime.now()\n",
    "dict_header = {\n",
    "    \"run_datetime\" : dt_run.strftime('%Y-%m-%dT%H:%M:%SZ'),\n",
    "    \"ig_record_type\" : \"fp\",\n",
    "    \"code_version\" : scraper.code_version\n",
    "}\n",
    "\n",
    "# combine all dictionaries\n",
    "dict_final = {**dict_header, **scraper.record_profile, **dict_lists}\n",
    "\n",
    "# output as JSON\n",
    "fn_out = re.sub('[\\W]','',dict_header[\"ig_record_type\"]) + '_' + tgt_user + '_' \\\n",
    "    + str(dt_run.year) + str(dt_run.month).zfill(2) + str(dt_run.day).zfill(2) + str(dt_run.hour).zfill(2) + str(dt_run.minute).zfill(2) + '.json'\n",
    "fn_out_full = dir_output / fn_out\n",
    "with open(fn_out_full, 'w') as json_file:\n",
    "    json.dump(dict_final, json_file)\n"
   ]
  },
  {
   "cell_type": "code",
   "execution_count": null,
   "metadata": {},
   "outputs": [],
   "source": [
    "fn_out_full"
   ]
  }
 ],
 "metadata": {
  "kernelspec": {
   "display_name": "Python 3",
   "language": "python",
   "name": "python3"
  },
  "language_info": {
   "codemirror_mode": {
    "name": "ipython",
    "version": 3
   },
   "file_extension": ".py",
   "mimetype": "text/x-python",
   "name": "python",
   "nbconvert_exporter": "python",
   "pygments_lexer": "ipython3",
   "version": "3.7.4"
  }
 },
 "nbformat": 4,
 "nbformat_minor": 4
}
