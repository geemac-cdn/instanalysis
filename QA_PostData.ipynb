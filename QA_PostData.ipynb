{
 "cells": [
  {
   "cell_type": "markdown",
   "metadata": {},
   "source": [
    "# IG360 QA - Capture Post Data\n",
    "*Purpose:* Capture key data from all posts listed in an IG360 full profile (FP) file\n",
    "<ul>\n",
    "    <li>Location</li>\n",
    "    <li>Like stats</li>\n",
    "    <li>Raw post and comment data</li>\n",
    "    <li>Full like list</li>\n",
    "</ul>\n",
    "<br>\n",
    "<br>\n",
    "Import libraries, set script configurations"
   ]
  },
  {
   "cell_type": "code",
   "execution_count": 1,
   "metadata": {},
   "outputs": [],
   "source": [
    "# import IG360 data\n",
    "from IG360.ig360_scrape import *\n",
    "\n",
    "# import other key libraries\n",
    "import pandas as pd\n",
    "import datetime\n",
    "import json\n",
    "import re\n",
    "from pathlib import Path\n",
    "\n",
    "# set IG login and password (turned off by default; using config.ini)\n",
    "#ig_login = \"xx\"\n",
    "#ig_pass = \"xx\"\n",
    "\n",
    "# set input / output folder\n",
    "txt_dir_input = '_output/'\n",
    "dir_input = Path(txt_dir_input)\n",
    "txt_dir_output = '_output/'\n",
    "dir_output = Path(txt_dir_output)\n",
    "\n",
    "# locate configuration file\n",
    "config_file_path = 'config.ini'\n",
    "config = init_config(config_file_path)\n",
    "\n",
    "# set source FP file and processing parameters\n",
    "src_fp_file = 'fp_benchesof_instagram_202004081150.json'"
   ]
  },
  {
   "cell_type": "markdown",
   "metadata": {},
   "source": [
    "Load Full Profile file and capture list of posts to process"
   ]
  },
  {
   "cell_type": "code",
   "execution_count": 2,
   "metadata": {},
   "outputs": [],
   "source": [
    "# load full profile file\n",
    "with open(dir_input/src_fp_file) as fp:\n",
    "    profile = json.load(fp)\n",
    "\n",
    "#get target user\n",
    "tgt_user = profile['user_name']\n",
    "\n",
    "# get list of posts to process\n",
    "tgt_posts = [i.split('/')[-2] for i in profile['recent_posts']]"
   ]
  },
  {
   "cell_type": "markdown",
   "metadata": {},
   "source": [
    "Initialize scraper and login"
   ]
  },
  {
   "cell_type": "code",
   "execution_count": 3,
   "metadata": {},
   "outputs": [
    {
     "name": "stdout",
     "output_type": "stream",
     "text": [
      "User: \n"
     ]
    }
   ],
   "source": [
    "#scraper = IG360Scrape(config, user_login, user_password)\n",
    "scraper = IG360Scrape(config)\n",
    "scraper.login()"
   ]
  },
  {
   "cell_type": "markdown",
   "metadata": {},
   "source": [
    "Scrape Target Posts"
   ]
  },
  {
   "cell_type": "code",
   "execution_count": 4,
   "metadata": {},
   "outputs": [],
   "source": [
    "first_element = True\n",
    "post_data = []\n",
    "for tgt_post in tgt_posts:\n",
    "    scraper.scrape_post(tgt_post)\n",
    "    if first_element:\n",
    "        post_data = [scraper.record_post]\n",
    "        first_element = False\n",
    "    else:\n",
    "        post_data.append([scraper.record_post])"
   ]
  },
  {
   "cell_type": "markdown",
   "metadata": {},
   "source": [
    "Process Final Ouput; Export to JSON"
   ]
  },
  {
   "cell_type": "code",
   "execution_count": 5,
   "metadata": {},
   "outputs": [],
   "source": [
    "# compile final data dictionary\n",
    "dt_run = datetime.datetime.now()\n",
    "dict_final = {\n",
    "    \"run_datetime\" : dt_run.strftime('%Y-%m-%dT%H:%M:%SZ'),\n",
    "    \"ig_record_type\" : \"ps\",\n",
    "    \"code_version\" : scraper.code_version,\n",
    "    \"fp_source\" : src_fp_file,\n",
    "    \"posts\" : post_data\n",
    "}\n",
    "\n",
    "# output as JSON\n",
    "fn_out = re.sub('[\\W]','',dict_final[\"ig_record_type\"]) + '_' + tgt_user + '_' \\\n",
    "    + str(dt_run.year) + str(dt_run.month).zfill(2) + str(dt_run.day).zfill(2) + str(dt_run.hour).zfill(2) + str(dt_run.minute).zfill(2) + '.json'\n",
    "fn_out_full = dir_output / fn_out\n",
    "with open(fn_out_full, 'w') as json_file:\n",
    "    json.dump(dict_final, json_file)\n"
   ]
  }
 ],
 "metadata": {
  "kernelspec": {
   "display_name": "Python 3",
   "language": "python",
   "name": "python3"
  },
  "language_info": {
   "codemirror_mode": {
    "name": "ipython",
    "version": 3
   },
   "file_extension": ".py",
   "mimetype": "text/x-python",
   "name": "python",
   "nbconvert_exporter": "python",
   "pygments_lexer": "ipython3",
   "version": "3.7.4"
  }
 },
 "nbformat": 4,
 "nbformat_minor": 4
}
