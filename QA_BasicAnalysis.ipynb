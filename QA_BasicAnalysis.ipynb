{
 "cells": [
  {
   "cell_type": "markdown",
   "metadata": {},
   "source": [
    "# IG360 QA - Basic Analysis\n",
    "*Purpose:* Create report for Instagram user based on JSON data previously extracted:\n",
    "<ul>\n",
    "    <li>Top Likers</li>\n",
    "    <li>Non-Reciprocating Accounts with few or no likes</li>\n",
    "    <li>Hidden Gems to Follow</li>\n",
    "</ul>\n",
    "<br>\n",
    "<br>\n"
   ]
  },
  {
   "cell_type": "code",
   "execution_count": null,
   "metadata": {},
   "outputs": [],
   "source": [
    "# import IG360 data\n",
    "from IG360.ig360_scrape import *\n",
    "\n",
    "# import other key libraries\n",
    "import pandas as pd\n",
    "import numpy as np\n",
    "from datetime import datetime\n",
    "import json\n",
    "import re\n",
    "from pathlib import Path\n",
    "\n",
    "# set input / output folder\n",
    "txt_dir_input = '_output/'\n",
    "dir_input = Path(txt_dir_input)\n",
    "txt_dir_output = '_output/'\n",
    "dir_output = Path(txt_dir_output)\n",
    "\n",
    "# locate configuration file\n",
    "config_file_path = 'config.ini'\n",
    "config = init_config(config_file_path)\n",
    "\n",
    "# Reporting parameters\n",
    "max_recs = 50\n",
    "\n",
    "# input file: FP\n",
    "src_fp_file = 'xx'\n",
    "\n",
    "# input file: PS\n",
    "src_ps_file = 'xx'\n"
   ]
  },
  {
   "cell_type": "markdown",
   "metadata": {},
   "source": [
    "### Data Processing"
   ]
  },
  {
   "cell_type": "markdown",
   "metadata": {},
   "source": [
    "Import JSON data"
   ]
  },
  {
   "cell_type": "code",
   "execution_count": null,
   "metadata": {},
   "outputs": [],
   "source": [
    "# initialize IG360Scrape object to use parsing features\n",
    "analyzer = IG360Scrape(config)\n",
    "\n",
    "# load full profile file\n",
    "with open(dir_input/src_fp_file) as fp:\n",
    "    raw_fp = json.load(fp)\n",
    "    \n",
    "# load full profile file\n",
    "with open(dir_input/src_ps_file) as ps:\n",
    "    raw_ps = json.load(ps)\n",
    "\n",
    "# create data sets for posts and likes\n",
    "df_posts = pd.DataFrame()\n",
    "df_post_likes = pd.DataFrame()\n",
    "for postdat in raw_ps['posts']:\n",
    "    # convert date time field\n",
    "    postdat[1] = datetime.strptime(postdat[1], '%Y-%m-%dT%H:%M:%S.%fZ')\n",
    "    \n",
    "    # basic post information\n",
    "    addon = pd.DataFrame([postdat[:6]], columns=['picture_id', 'post_date', 'poster', 'location', 'likes', 'post'])\n",
    "    df_posts = df_posts.append(addon, ignore_index=True)\n",
    "    \n",
    "    # like matrix\n",
    "    for lk in postdat[6]:\n",
    "        if len(lk) > 0:\n",
    "            addonl = pd.DataFrame([[postdat[0], postdat[1], lk]], columns=['picture_id', 'post_date', 'account'])\n",
    "            df_post_likes = df_post_likes.append(addonl, ignore_index=True)    "
   ]
  },
  {
   "cell_type": "markdown",
   "metadata": {},
   "source": [
    "Generate details for post word counts, hashtags and comments"
   ]
  },
  {
   "cell_type": "code",
   "execution_count": null,
   "metadata": {},
   "outputs": [],
   "source": [
    "\n",
    "df_post_details = pd.DataFrame()\n",
    "df_post_hashtags = pd.DataFrame()\n",
    "df_post_comments = pd.DataFrame()\n",
    "\n",
    "for tpost in raw_ps['posts']:\n",
    "    # get post analytics\n",
    "    tpost_det = analyzer.parse_post(tpost[5])\n",
    "    \n",
    "    # process post_details\n",
    "    addon_det  = pd.DataFrame([[tpost[0]] + list(tpost_det[:3]) + [tpost_det[4]]], \n",
    "                              columns=['picture_id', 'post_num_words', 'post_num_nonhash', 'post_num_dist_nonhash', 'likes'])\n",
    "    df_post_details = df_post_details.append(addon_det, ignore_index=True)\n",
    "    \n",
    "    # process post hashtags\n",
    "    for hashtag in tpost_det[5]:\n",
    "        addon_hashtag = pd.DataFrame([[tpost[0]] + [hashtag]], \n",
    "                                     columns=['picture_id', 'hashtag'])\n",
    "        df_post_hashtags = df_post_hashtags.append(addon_hashtag, ignore_index=True)\n",
    "    \n",
    "    # process comment list\n",
    "    for commenter in tpost_det[6]:\n",
    "        addon_commenter = pd.DataFrame([[tpost[0]] + [commenter]], columns=['picture_id', 'account'])\n",
    "        df_post_comments = df_post_comments.append(addon_commenter, ignore_index=True)\n",
    "\n"
   ]
  },
  {
   "cell_type": "markdown",
   "metadata": {},
   "source": [
    "### Reporting"
   ]
  },
  {
   "cell_type": "markdown",
   "metadata": {},
   "source": [
    "Top Likers"
   ]
  },
  {
   "cell_type": "code",
   "execution_count": null,
   "metadata": {},
   "outputs": [],
   "source": [
    "# aggregate likers\n",
    "rept_top_likers = (df_post_likes.groupby(['account'])\n",
    "                   .agg({'picture_id':'count', 'post_date':'max'})\n",
    "                   .sort_values(['picture_id'], ascending=[False]))\n",
    "rept_top_likers.columns = ['num_likes', 'last_post']\n",
    "\n",
    "# add calcuation for days since last post\n",
    "max_post = df_post_likes['post_date'].max()\n",
    "rept_top_likers['days_snc_lst'] = ((max_post - rept_top_likers['last_post']) / np.timedelta64(1, 'D')).astype(\"int\")\n",
    "\n",
    "# display top likers\n",
    "rept_top_likers[['num_likes', 'days_snc_lst']].head(max_recs)"
   ]
  },
  {
   "cell_type": "markdown",
   "metadata": {},
   "source": [
    "Worst Non-Reciprocators (accounts that you follow but don't follow you back)"
   ]
  },
  {
   "cell_type": "code",
   "execution_count": null,
   "metadata": {},
   "outputs": [],
   "source": [
    "# get list of non-reciprocating accounts\n",
    "df_non_recip =  pd.DataFrame(list(set(raw_fp['user_follows']) - set(raw_fp['followers'])),\n",
    "                             columns = ['account']\n",
    "                            )\n",
    "\n",
    "# aggregate like stats\n",
    "df_non_recip_tally = (df_post_likes[(df_post_likes['account'].isin(raw_fp['user_follows'])) & (~df_post_likes['account'].isin(raw_fp['followers']))]\n",
    "                 .groupby(['account'])\n",
    "                 .agg({'picture_id':'count', 'post_date':'max'})\n",
    "                )\n",
    "df_non_recip_tally.columns = ['num_likes', 'last_post']\n",
    "max_post = df_non_recip_tally['last_post'].max()\n",
    "df_non_recip_tally['days_snc_lst'] = ((max_post - df_non_recip_tally['last_post']) / np.timedelta64(1, 'D')).astype(\"int\")\n",
    "\n",
    "# combine and format\n",
    "rept_worst_nc = (df_non_recip.merge(df_non_recip_tally, on='account', how='left')\n",
    "                 .fillna({'num_likes':0})\n",
    "                 .sort_values(['num_likes'], ascending=[True])\n",
    "                 .head(max_recs)\n",
    "                 .set_index('account')\n",
    "                )[['num_likes', 'days_snc_lst']]\n",
    "rept_worst_nc['num_likes'] = rept_worst_nc['num_likes'].astype(\"int\")\n",
    "\n",
    "#display worst non-reciprocators\n",
    "rept_worst_nc"
   ]
  },
  {
   "cell_type": "markdown",
   "metadata": {},
   "source": [
    "Hidden Gems (you are not following but provide a lot of likes)"
   ]
  },
  {
   "cell_type": "code",
   "execution_count": null,
   "metadata": {},
   "outputs": [],
   "source": [
    "# get list of accounts not followed by\n",
    "df_nf =  pd.DataFrame(list(set(df_post_likes['account']) - set(raw_fp['user_follows'])),  columns = ['account'])\n",
    "\n",
    "# aggregate like stats\n",
    "df_nf_tally = (df_post_likes\n",
    "                      .groupby(['account'])\n",
    "                      .agg({'picture_id':'count', 'post_date':'max'})\n",
    "                     )\n",
    "df_nf_tally.columns = ['num_likes', 'last_post']\n",
    "max_post = df_nf_tally['last_post'].max()\n",
    "df_nf_tally['days_snc_lst'] = ((max_post - df_nf_tally['last_post']) / np.timedelta64(1, 'D')).astype(\"int\")\n",
    "\n",
    "# combine and format\n",
    "rept_hidden_gems = (df_nf.merge(df_nf_tally, on='account', how='left')\n",
    "                 .fillna({'num_likes':0})\n",
    "                 .sort_values(['num_likes'], ascending=[False])\n",
    "                 .head(max_recs)\n",
    "                 .set_index('account')\n",
    "                )[['num_likes', 'days_snc_lst']]\n",
    "rept_hidden_gems['num_likes'] = rept_hidden_gems['num_likes'].astype(\"int\")\n",
    "\n",
    "#display worst non-reciprocators\n",
    "rept_hidden_gems"
   ]
  },
  {
   "cell_type": "markdown",
   "metadata": {},
   "source": [
    "Deadweight - People who follow but show little or no engagement"
   ]
  },
  {
   "cell_type": "code",
   "execution_count": null,
   "metadata": {},
   "outputs": [],
   "source": [
    "# get list of non-reciprocating accounts\n",
    "df_deadweight =  pd.DataFrame(list(raw_fp['followers']), columns = ['account'])\n",
    "\n",
    "# aggregate like stats\n",
    "df_deadweight_tally = (df_post_likes.groupby(['account'])\n",
    "                 .agg({'picture_id':'count', 'post_date':'max'})\n",
    "                )\n",
    "df_deadweight_tally.columns = ['num_likes', 'last_post']\n",
    "max_post = df_deadweight_tally['last_post'].max()\n",
    "df_deadweight_tally['days_snc_lst'] = ((max_post - df_deadweight_tally['last_post']) / np.timedelta64(1, 'D')).astype(\"int\")\n",
    "\n",
    "# combine and format\n",
    "rept_deadweight = (df_deadweight.merge(df_deadweight_tally, on='account', how='left')\n",
    "                 .fillna({'num_likes':0})\n",
    "                 .sort_values(['num_likes'], ascending=[True])\n",
    "                 .head(max_recs)\n",
    "                 .set_index('account')\n",
    "                )[['num_likes', 'days_snc_lst']]\n",
    "rept_deadweight['num_likes'] = rept_deadweight['num_likes'].astype(\"int\")\n",
    "\n",
    "#display worst non-reciprocators\n",
    "rept_deadweight"
   ]
  },
  {
   "cell_type": "markdown",
   "metadata": {},
   "source": [
    "Prominent Hashtags"
   ]
  },
  {
   "cell_type": "code",
   "execution_count": null,
   "metadata": {},
   "outputs": [],
   "source": [
    "\n",
    "df_hashtag_tally = (df_post_hashtags.merge(df_post_details, on=\"picture_id\", how=\"left\")\n",
    "                    .groupby(['hashtag'])\n",
    "                    .agg({'picture_id':'count', 'post_num_nonhash':'mean', 'likes':'mean'})\n",
    "                    .sort_values(['picture_id'], ascending=[False])\n",
    "                    .head(max_recs)\n",
    "                   )\n",
    "df_hashtag_tally.columns = ['num_posts', 'avg_post_nonhash_len', 'avg_likes']\n",
    "df_hashtag_tally"
   ]
  }
 ],
 "metadata": {
  "kernelspec": {
   "display_name": "Python 3",
   "language": "python",
   "name": "python3"
  },
  "language_info": {
   "codemirror_mode": {
    "name": "ipython",
    "version": 3
   },
   "file_extension": ".py",
   "mimetype": "text/x-python",
   "name": "python",
   "nbconvert_exporter": "python",
   "pygments_lexer": "ipython3",
   "version": "3.7.4"
  }
 },
 "nbformat": 4,
 "nbformat_minor": 4
}
